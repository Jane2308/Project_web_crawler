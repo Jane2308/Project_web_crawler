{
 "cells": [
  {
   "cell_type": "code",
   "execution_count": 1,
   "metadata": {},
   "outputs": [
    {
     "data": {
      "text/plain": [
       "requests.models.Response"
      ]
     },
     "execution_count": 1,
     "metadata": {},
     "output_type": "execute_result"
    }
   ],
   "source": [
    "import requests\n",
    "import bs4\n",
    "\n",
    "res = requests.get('https://en.wikipedia.org/wiki/Crochet')\n",
    "\n",
    "type(res)"
   ]
  },
  {
   "cell_type": "code",
   "execution_count": 4,
   "metadata": {},
   "outputs": [],
   "source": [
    "headers = bs4.BeautifulSoup(res.text, 'lxml')"
   ]
  },
  {
   "cell_type": "code",
   "execution_count": 5,
   "metadata": {},
   "outputs": [
    {
     "data": {
      "text/plain": [
       "bs4.BeautifulSoup"
      ]
     },
     "execution_count": 5,
     "metadata": {},
     "output_type": "execute_result"
    }
   ],
   "source": [
    "type(headers)"
   ]
  },
  {
   "cell_type": "code",
   "execution_count": 7,
   "metadata": {},
   "outputs": [
    {
     "data": {
      "text/plain": [
       "[<span class=\"mw-headline\" id=\"Etymology\">Etymology</span>,\n",
       " <span class=\"mw-headline\" id=\"Origins\">Origins</span>,\n",
       " <span class=\"mw-headline\" id=\"Irish_crochet\">Irish crochet</span>,\n",
       " <span class=\"mw-headline\" id=\"Modern_practice_and_culture\">Modern practice and culture</span>,\n",
       " <span class=\"mw-headline\" id=\"Materials\">Materials</span>,\n",
       " <span class=\"mw-headline\" id=\"Crochet_hook\">Crochet hook</span>,\n",
       " <span class=\"mw-headline\" id=\"Yarn\">Yarn</span>,\n",
       " <span class=\"mw-headline\" id=\"Process\">Process</span>,\n",
       " <span class=\"mw-headline\" id=\"Types_of_stitches\">Types of stitches</span>,\n",
       " <span class=\"mw-headline\" id=\"International_crochet_terms_and_notations\">International crochet terms and notations</span>,\n",
       " <span class=\"mw-headline\" id=\"Differences_from_and_similarities_to_knitting\">Differences from and similarities to knitting</span>,\n",
       " <span class=\"mw-headline\" id=\"Charity\">Charity</span>,\n",
       " <span class=\"mw-headline\" id=\"Mathematics_and_hyperbolic_crochet\">Mathematics and hyperbolic crochet</span>,\n",
       " <span class=\"mw-headline\" id=\"Architecture\">Architecture</span>,\n",
       " <span class=\"mw-headline\" id=\"Yarn_bombing\">Yarn bombing</span>,\n",
       " <span class=\"mw-headline\" id=\"See_also\">See also</span>,\n",
       " <span class=\"mw-headline\" id=\"References\">References</span>,\n",
       " <span class=\"mw-headline\" id=\"Additional_reading\">Additional reading</span>,\n",
       " <span class=\"mw-headline\" id=\"External_links\">External links</span>]"
      ]
     },
     "execution_count": 7,
     "metadata": {},
     "output_type": "execute_result"
    }
   ],
   "source": [
    "headers.select('.mw-headline')"
   ]
  },
  {
   "cell_type": "code",
   "execution_count": 18,
   "metadata": {},
   "outputs": [
    {
     "name": "stdout",
     "output_type": "stream",
     "text": [
      "Etymology\n",
      "Origins\n",
      "Irish crochet\n",
      "Modern practice and culture\n",
      "Materials\n",
      "Crochet hook\n",
      "Yarn\n",
      "Process\n",
      "Types of stitches\n",
      "International crochet terms and notations\n",
      "Differences from and similarities to knitting\n",
      "Charity\n",
      "Mathematics and hyperbolic crochet\n",
      "Architecture\n",
      "Yarn bombing\n",
      "See also\n",
      "References\n",
      "Additional reading\n",
      "External links\n"
     ]
    }
   ],
   "source": [
    "for i in headers.select('.mw-headline'):\n",
    "    print(i.text)"
   ]
  },
  {
   "cell_type": "code",
   "execution_count": null,
   "metadata": {},
   "outputs": [],
   "source": []
  }
 ],
 "metadata": {
  "kernelspec": {
   "display_name": "Python 3",
   "language": "python",
   "name": "python3"
  },
  "language_info": {
   "codemirror_mode": {
    "name": "ipython",
    "version": 3
   },
   "file_extension": ".py",
   "mimetype": "text/x-python",
   "name": "python",
   "nbconvert_exporter": "python",
   "pygments_lexer": "ipython3",
   "version": "3.6.4"
  }
 },
 "nbformat": 4,
 "nbformat_minor": 2
}
